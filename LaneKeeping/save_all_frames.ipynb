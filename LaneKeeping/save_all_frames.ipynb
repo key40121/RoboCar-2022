{
 "cells": [
  {
   "cell_type": "code",
   "execution_count": 3,
   "id": "2fc4b72c-b037-4ba9-8617-81cffff7518c",
   "metadata": {},
   "outputs": [],
   "source": [
    "import cv2\n",
    "import numpy as np\n",
    "\n",
    "import os"
   ]
  },
  {
   "cell_type": "code",
   "execution_count": 4,
   "id": "8c49d56f-6c55-400a-9f91-f99f9566766b",
   "metadata": {},
   "outputs": [],
   "source": [
    "def save_all_frames(video_path, dir_path, basename, ext=\"jpg\"):\n",
    "    cap = cv2.VideoCapture(video_path)\n",
    "    \n",
    "    if not cap.isOpened():\n",
    "        return\n",
    "    \n",
    "    os.makedirs(dir_path, exist_ok=True)\n",
    "    base_path = os.path.join(dir_path, basename)\n",
    "    \n",
    "    digit = len(str(int(cap.get(cv2.CAP_PROP_FRAME_COUNT))))\n",
    "    \n",
    "    n = 0\n",
    "    \n",
    "    while True:\n",
    "        ret, frame = cap.read()\n",
    "        \n",
    "        if ret:\n",
    "            cv2.imwrite('{}_{}.{}'.format(base_path, str(n).zfill(digit), ext), frame)\n",
    "            n += 1\n",
    "        else:\n",
    "            return"
   ]
  },
  {
   "cell_type": "code",
   "execution_count": 5,
   "id": "ca888d70-fe28-4276-b7b7-4fc508700da8",
   "metadata": {},
   "outputs": [],
   "source": [
    "save_all_frames(\"20220613/cap1.avi\", \"data/20220613/test_1\", \"test_img\")"
   ]
  },
  {
   "cell_type": "code",
   "execution_count": 6,
   "id": "45cf271b-6855-4e30-8349-d797852d3ccd",
   "metadata": {},
   "outputs": [],
   "source": [
    "save_all_frames(\"20220613/cap2.avi\", \"data/20220613/test_2\", \"test_img\")"
   ]
  },
  {
   "cell_type": "code",
   "execution_count": 7,
   "id": "c1373937-3646-4b2c-bda3-6824326e478d",
   "metadata": {},
   "outputs": [],
   "source": [
    "save_all_frames(\"20220613/cap3.avi\", \"data/20220613/test_3\", \"test_img\")"
   ]
  },
  {
   "cell_type": "code",
   "execution_count": 8,
   "id": "fd7dfc71-4e93-4696-ab9f-73cd9a032c83",
   "metadata": {},
   "outputs": [],
   "source": [
    "save_all_frames(\"20220613/cap4.avi\", \"data/20220613/test_4\", \"test_img\")"
   ]
  },
  {
   "cell_type": "code",
   "execution_count": 9,
   "id": "5af7b712-7226-4455-8606-82982d917598",
   "metadata": {},
   "outputs": [],
   "source": [
    "save_all_frames(\"20220613/cap5.avi\", \"data/20220613/test_5\", \"test_img\")"
   ]
  },
  {
   "cell_type": "code",
   "execution_count": 10,
   "id": "abc98998-6296-40af-9c84-caf05119c6ab",
   "metadata": {},
   "outputs": [],
   "source": [
    "save_all_frames(\"20220613/cap6.avi\", \"data/20220613/test_6\", \"test_img\")"
   ]
  },
  {
   "cell_type": "code",
   "execution_count": 11,
   "id": "60cfa0b7-99cc-49c2-9cdc-35e3d1d1c474",
   "metadata": {},
   "outputs": [],
   "source": [
    "save_all_frames(\"20220613/cap7.avi\", \"data/20220613/test_7\", \"test_img\")"
   ]
  },
  {
   "cell_type": "code",
   "execution_count": 12,
   "id": "db80cfba-b09e-4e7d-aa7c-40be5bacdfcc",
   "metadata": {},
   "outputs": [],
   "source": [
    "save_all_frames(\"20220613/cap8.avi\", \"data/20220613/test_8\", \"test_img\")"
   ]
  },
  {
   "cell_type": "code",
   "execution_count": 13,
   "id": "7ffec314-04f5-4a03-b59b-1acf6471fc8d",
   "metadata": {},
   "outputs": [],
   "source": [
    "save_all_frames(\"20220613/cap9.avi\", \"data/20220613/test_9\", \"test_img\")"
   ]
  },
  {
   "cell_type": "code",
   "execution_count": 14,
   "id": "558ea231-5cdf-4600-98d3-f418a78d497e",
   "metadata": {},
   "outputs": [],
   "source": [
    "save_all_frames(\"20220613/cap10.avi\", \"data/20220613/test_10\", \"test_img\")"
   ]
  },
  {
   "cell_type": "code",
   "execution_count": 15,
   "id": "ed6d942a-f3d8-4faa-9853-0aa58e71a30e",
   "metadata": {},
   "outputs": [],
   "source": [
    "save_all_frames(\"20220613/cap11.avi\", \"data/20220613/test_11\", \"test_img\")"
   ]
  },
  {
   "cell_type": "code",
   "execution_count": 16,
   "id": "4859f254-8593-41c4-a68b-ce0f4e61f36b",
   "metadata": {},
   "outputs": [],
   "source": [
    "save_all_frames(\"20220613/cap12.avi\", \"data/20220613/test_12\", \"test_img\")"
   ]
  },
  {
   "cell_type": "code",
   "execution_count": 17,
   "id": "99731dca-d396-4cab-b05b-cb2f185b6725",
   "metadata": {},
   "outputs": [],
   "source": [
    "save_all_frames(\"20220613/cap13.avi\", \"data/20220613/test_13\", \"test_img\")"
   ]
  },
  {
   "cell_type": "code",
   "execution_count": null,
   "id": "8095d428-3e92-4c11-b17f-d67e47a2e7cb",
   "metadata": {},
   "outputs": [],
   "source": []
  }
 ],
 "metadata": {
  "kernelspec": {
   "display_name": "Python 3 (ipykernel)",
   "language": "python",
   "name": "python3"
  },
  "language_info": {
   "codemirror_mode": {
    "name": "ipython",
    "version": 3
   },
   "file_extension": ".py",
   "mimetype": "text/x-python",
   "name": "python",
   "nbconvert_exporter": "python",
   "pygments_lexer": "ipython3",
   "version": "3.9.12"
  }
 },
 "nbformat": 4,
 "nbformat_minor": 5
}
